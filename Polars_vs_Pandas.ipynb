{
  "cells": [
    {
      "attachments": {},
      "cell_type": "markdown",
      "metadata": {
        "id": "ozJfA_-bjjze"
      },
      "source": [
        "# Code Comparison\n",
        "Ref: https://towardsdatascience.com/pandas-vs-polars-a-syntax-and-speed-comparison-5aa54e27497e"
      ]
    },
    {
      "attachments": {},
      "cell_type": "markdown",
      "metadata": {},
      "source": [
        "Install libs"
      ]
    },
    {
      "cell_type": "code",
      "execution_count": null,
      "metadata": {
        "colab": {
          "base_uri": "https://localhost:8080/"
        },
        "id": "X0AgOe6ajh3s",
        "outputId": "46ce22bc-affb-4a31-9b95-f15aca296b87"
      },
      "outputs": [],
      "source": [
        "!pip install polars\n",
        "!pip install codetiming \n",
        "!pip install numpy \n",
        "!pip install pandas "
      ]
    },
    {
      "cell_type": "markdown",
      "metadata": {
        "id": "ktiT23eijjdp"
      },
      "source": [
        "Import libs"
      ]
    },
    {
      "cell_type": "code",
      "execution_count": 3,
      "metadata": {
        "id": "z5oH7eXjitoE"
      },
      "outputs": [],
      "source": [
        "import polars as pl\n",
        "import pandas as pd\n",
        "from codetiming import Timer\n",
        "import numpy"
      ]
    },
    {
      "cell_type": "code",
      "execution_count": 94,
      "metadata": {},
      "outputs": [],
      "source": [
        "pathToFile = 'C:/path/to/file/owid-covid-data.csv'"
      ]
    },
    {
      "cell_type": "code",
      "execution_count": 95,
      "metadata": {
        "colab": {
          "base_uri": "https://localhost:8080/"
        },
        "id": "mjbK_Nr_jaBF",
        "outputId": "e16f4db6-b8f1-4465-9600-574c00054457"
      },
      "outputs": [
        {
          "name": "stdout",
          "output_type": "stream",
          "text": [
            "Task elapsed time: 1.6\n",
            "Task elapsed time: 1.5\n",
            "Task elapsed time: 1.5\n",
            "Task elapsed time: 1.4\n",
            "Task elapsed time: 1.5\n",
            "Task elapsed time: 1.4\n",
            "Task elapsed time: 1.4\n",
            "Task elapsed time: 1.4\n",
            "Task elapsed time: 1.4\n",
            "Task elapsed time: 1.4\n",
            "Mean Pandas result: 1.46s, the execution lasted: 14.56s\n"
          ]
        }
      ],
      "source": [
        "def pandasReadCSV():\n",
        "  #ini timer\n",
        "  timer = Timer(text=f\"Task elapsed time: {{:.1f}}\")\n",
        "  timer.start()\n",
        "\n",
        "  #pandas read csv\n",
        "  pd.read_csv(pathToFile)\n",
        "  \n",
        "  #end timer and return results\n",
        "  timer.stop()\n",
        "  return timer.last\n",
        "\n",
        "#loop function 10x\n",
        "pandasResult = [pandasReadCSV() for pandasResult in range(10)]\n",
        "\n",
        "#calc mean time execution\n",
        "meanPandasResult = str(round(numpy.average(pandasResult), 2))\n",
        "sumPandasResult = str(round(numpy.sum(pandasResult), 2))\n",
        "print('Mean Pandas result: ' + meanPandasResult + 's, the execution lasted: ' + sumPandasResult + 's')"
      ]
    },
    {
      "cell_type": "code",
      "execution_count": 96,
      "metadata": {
        "colab": {
          "base_uri": "https://localhost:8080/"
        },
        "id": "aWKwJeBWj5gy",
        "outputId": "140da5ff-15ce-42bb-c079-f843236007d4"
      },
      "outputs": [
        {
          "name": "stdout",
          "output_type": "stream",
          "text": [
            "Task elapsed time: 0.2\n",
            "Task elapsed time: 0.2\n",
            "Task elapsed time: 0.2\n",
            "Task elapsed time: 0.2\n",
            "Task elapsed time: 0.2\n",
            "Task elapsed time: 0.2\n",
            "Task elapsed time: 0.2\n",
            "Task elapsed time: 0.2\n",
            "Task elapsed time: 0.3\n",
            "Task elapsed time: 0.2\n",
            "Mean Polars result: 0.24s, the execution lasted: 2.37s\n"
          ]
        }
      ],
      "source": [
        "def PolarsReadCSV():\n",
        "  #ini timer\n",
        "  timer = Timer(text=f\"Task elapsed time: {{:.1f}}\")\n",
        "  timer.start()\n",
        "\n",
        "  #polars read csv\n",
        "  pl.read_csv(pathToFile)\n",
        "  \n",
        "  #end timer and return results\n",
        "  timer.stop()\n",
        "  return timer.last\n",
        "\n",
        "#loop function 10x\n",
        "PolarsResult = [PolarsReadCSV() for PolarsResult in range(10)]\n",
        "\n",
        "#calc mean time execution\n",
        "meanPolarsResult = str(round(numpy.average(PolarsResult), 2))\n",
        "sumPolarsResult = str(round(numpy.sum(PolarsResult), 2))\n",
        "print('Mean Polars result: ' + meanPolarsResult + 's, the execution lasted: ' + sumPolarsResult + 's')"
      ]
    },
    {
      "attachments": {},
      "cell_type": "markdown",
      "metadata": {},
      "source": [
        "Read CSV"
      ]
    },
    {
      "cell_type": "code",
      "execution_count": 6,
      "metadata": {},
      "outputs": [],
      "source": [
        "plDF = pl.read_csv('C:/Users/Morgs/Documents/z - Learning/python/owid-covid-data.csv')\n",
        "pdDF = pd.read_csv('C:/Users/Morgs/Documents/z - Learning/python/owid-covid-data.csv')"
      ]
    },
    {
      "attachments": {},
      "cell_type": "markdown",
      "metadata": {},
      "source": [
        "First value check"
      ]
    },
    {
      "cell_type": "code",
      "execution_count": 8,
      "metadata": {
        "colab": {
          "base_uri": "https://localhost:8080/"
        },
        "id": "kjgHR887oKL1",
        "outputId": "995c9f3d-a66e-44a4-99e1-896ba4e46cb7"
      },
      "outputs": [
        {
          "data": {
            "text/html": [
              "<div><style>\n",
              ".dataframe > thead > tr > th,\n",
              ".dataframe > tbody > tr > td {\n",
              "  text-align: right;\n",
              "}\n",
              "</style>\n",
              "<small>shape: (5, 67)</small><table border=\"1\" class=\"dataframe\"><thead><tr><th>iso_code</th><th>continent</th><th>location</th><th>date</th><th>total_cases</th><th>new_cases</th><th>new_cases_smoothed</th><th>total_deaths</th><th>new_deaths</th><th>new_deaths_smoothed</th><th>total_cases_per_million</th><th>new_cases_per_million</th><th>new_cases_smoothed_per_million</th><th>total_deaths_per_million</th><th>new_deaths_per_million</th><th>new_deaths_smoothed_per_million</th><th>reproduction_rate</th><th>icu_patients</th><th>icu_patients_per_million</th><th>hosp_patients</th><th>hosp_patients_per_million</th><th>weekly_icu_admissions</th><th>weekly_icu_admissions_per_million</th><th>weekly_hosp_admissions</th><th>weekly_hosp_admissions_per_million</th><th>total_tests</th><th>new_tests</th><th>total_tests_per_thousand</th><th>new_tests_per_thousand</th><th>new_tests_smoothed</th><th>new_tests_smoothed_per_thousand</th><th>positive_rate</th><th>tests_per_case</th><th>tests_units</th><th>total_vaccinations</th><th>people_vaccinated</th><th>people_fully_vaccinated</th><th>total_boosters</th><th>new_vaccinations</th><th>new_vaccinations_smoothed</th><th>total_vaccinations_per_hundred</th><th>people_vaccinated_per_hundred</th><th>people_fully_vaccinated_per_hundred</th><th>total_boosters_per_hundred</th><th>new_vaccinations_smoothed_per_million</th><th>new_people_vaccinated_smoothed</th><th>new_people_vaccinated_smoothed_per_hundred</th><th>stringency_index</th><th>population_density</th><th>median_age</th><th>aged_65_older</th><th>aged_70_older</th><th>gdp_per_capita</th><th>extreme_poverty</th><th>cardiovasc_death_rate</th><th>diabetes_prevalence</th><th>female_smokers</th><th>male_smokers</th><th>handwashing_facilities</th><th>hospital_beds_per_thousand</th><th>life_expectancy</th><th>human_development_index</th><th>population</th><th>excess_mortality_cumulative_absolute</th><th>excess_mortality_cumulative</th><th>excess_mortality</th><th>excess_mortality_cumulative_per_million</th></tr><tr><td>str</td><td>str</td><td>str</td><td>str</td><td>f64</td><td>f64</td><td>f64</td><td>f64</td><td>f64</td><td>f64</td><td>f64</td><td>f64</td><td>f64</td><td>f64</td><td>f64</td><td>f64</td><td>f64</td><td>str</td><td>str</td><td>str</td><td>str</td><td>str</td><td>str</td><td>str</td><td>str</td><td>str</td><td>str</td><td>str</td><td>str</td><td>str</td><td>str</td><td>str</td><td>str</td><td>str</td><td>str</td><td>str</td><td>str</td><td>str</td><td>str</td><td>str</td><td>str</td><td>str</td><td>str</td><td>str</td><td>str</td><td>str</td><td>str</td><td>f64</td><td>f64</td><td>f64</td><td>f64</td><td>f64</td><td>f64</td><td>str</td><td>f64</td><td>f64</td><td>str</td><td>str</td><td>f64</td><td>f64</td><td>f64</td><td>f64</td><td>f64</td><td>str</td><td>str</td><td>str</td><td>str</td></tr></thead><tbody><tr><td>&quot;AFG&quot;</td><td>&quot;Asia&quot;</td><td>&quot;Afghanistan&quot;</td><td>&quot;2020-01-03&quot;</td><td>null</td><td>0.0</td><td>null</td><td>null</td><td>0.0</td><td>null</td><td>null</td><td>0.0</td><td>null</td><td>null</td><td>0.0</td><td>null</td><td>null</td><td>null</td><td>null</td><td>null</td><td>null</td><td>null</td><td>null</td><td>null</td><td>null</td><td>null</td><td>null</td><td>null</td><td>null</td><td>null</td><td>null</td><td>null</td><td>null</td><td>null</td><td>null</td><td>null</td><td>null</td><td>null</td><td>null</td><td>null</td><td>null</td><td>null</td><td>null</td><td>null</td><td>null</td><td>null</td><td>null</td><td>null</td><td>54.422</td><td>18.6</td><td>2.581</td><td>1.337</td><td>1803.987</td><td>null</td><td>597.029</td><td>9.59</td><td>null</td><td>null</td><td>37.746</td><td>0.5</td><td>64.83</td><td>0.511</td><td>4.1128772e7</td><td>null</td><td>null</td><td>null</td><td>null</td></tr><tr><td>&quot;AFG&quot;</td><td>&quot;Asia&quot;</td><td>&quot;Afghanistan&quot;</td><td>&quot;2020-01-04&quot;</td><td>null</td><td>0.0</td><td>null</td><td>null</td><td>0.0</td><td>null</td><td>null</td><td>0.0</td><td>null</td><td>null</td><td>0.0</td><td>null</td><td>null</td><td>null</td><td>null</td><td>null</td><td>null</td><td>null</td><td>null</td><td>null</td><td>null</td><td>null</td><td>null</td><td>null</td><td>null</td><td>null</td><td>null</td><td>null</td><td>null</td><td>null</td><td>null</td><td>null</td><td>null</td><td>null</td><td>null</td><td>null</td><td>null</td><td>null</td><td>null</td><td>null</td><td>null</td><td>null</td><td>null</td><td>null</td><td>54.422</td><td>18.6</td><td>2.581</td><td>1.337</td><td>1803.987</td><td>null</td><td>597.029</td><td>9.59</td><td>null</td><td>null</td><td>37.746</td><td>0.5</td><td>64.83</td><td>0.511</td><td>4.1128772e7</td><td>null</td><td>null</td><td>null</td><td>null</td></tr><tr><td>&quot;AFG&quot;</td><td>&quot;Asia&quot;</td><td>&quot;Afghanistan&quot;</td><td>&quot;2020-01-05&quot;</td><td>null</td><td>0.0</td><td>null</td><td>null</td><td>0.0</td><td>null</td><td>null</td><td>0.0</td><td>null</td><td>null</td><td>0.0</td><td>null</td><td>null</td><td>null</td><td>null</td><td>null</td><td>null</td><td>null</td><td>null</td><td>null</td><td>null</td><td>null</td><td>null</td><td>null</td><td>null</td><td>null</td><td>null</td><td>null</td><td>null</td><td>null</td><td>null</td><td>null</td><td>null</td><td>null</td><td>null</td><td>null</td><td>null</td><td>null</td><td>null</td><td>null</td><td>null</td><td>null</td><td>null</td><td>null</td><td>54.422</td><td>18.6</td><td>2.581</td><td>1.337</td><td>1803.987</td><td>null</td><td>597.029</td><td>9.59</td><td>null</td><td>null</td><td>37.746</td><td>0.5</td><td>64.83</td><td>0.511</td><td>4.1128772e7</td><td>null</td><td>null</td><td>null</td><td>null</td></tr><tr><td>&quot;AFG&quot;</td><td>&quot;Asia&quot;</td><td>&quot;Afghanistan&quot;</td><td>&quot;2020-01-06&quot;</td><td>null</td><td>0.0</td><td>null</td><td>null</td><td>0.0</td><td>null</td><td>null</td><td>0.0</td><td>null</td><td>null</td><td>0.0</td><td>null</td><td>null</td><td>null</td><td>null</td><td>null</td><td>null</td><td>null</td><td>null</td><td>null</td><td>null</td><td>null</td><td>null</td><td>null</td><td>null</td><td>null</td><td>null</td><td>null</td><td>null</td><td>null</td><td>null</td><td>null</td><td>null</td><td>null</td><td>null</td><td>null</td><td>null</td><td>null</td><td>null</td><td>null</td><td>null</td><td>null</td><td>null</td><td>null</td><td>54.422</td><td>18.6</td><td>2.581</td><td>1.337</td><td>1803.987</td><td>null</td><td>597.029</td><td>9.59</td><td>null</td><td>null</td><td>37.746</td><td>0.5</td><td>64.83</td><td>0.511</td><td>4.1128772e7</td><td>null</td><td>null</td><td>null</td><td>null</td></tr><tr><td>&quot;AFG&quot;</td><td>&quot;Asia&quot;</td><td>&quot;Afghanistan&quot;</td><td>&quot;2020-01-07&quot;</td><td>null</td><td>0.0</td><td>null</td><td>null</td><td>0.0</td><td>null</td><td>null</td><td>0.0</td><td>null</td><td>null</td><td>0.0</td><td>null</td><td>null</td><td>null</td><td>null</td><td>null</td><td>null</td><td>null</td><td>null</td><td>null</td><td>null</td><td>null</td><td>null</td><td>null</td><td>null</td><td>null</td><td>null</td><td>null</td><td>null</td><td>null</td><td>null</td><td>null</td><td>null</td><td>null</td><td>null</td><td>null</td><td>null</td><td>null</td><td>null</td><td>null</td><td>null</td><td>null</td><td>null</td><td>null</td><td>54.422</td><td>18.6</td><td>2.581</td><td>1.337</td><td>1803.987</td><td>null</td><td>597.029</td><td>9.59</td><td>null</td><td>null</td><td>37.746</td><td>0.5</td><td>64.83</td><td>0.511</td><td>4.1128772e7</td><td>null</td><td>null</td><td>null</td><td>null</td></tr></tbody></table></div>"
            ],
            "text/plain": [
              "shape: (5, 67)\n",
              "┌──────────┬───────────┬─────────┬─────────┬───┬────────────┬────────────┬────────────┬────────────┐\n",
              "│ iso_code ┆ continent ┆ locatio ┆ date    ┆ … ┆ excess_mor ┆ excess_mor ┆ excess_mor ┆ excess_mor │\n",
              "│ ---      ┆ ---       ┆ n       ┆ ---     ┆   ┆ tality_cum ┆ tality_cum ┆ tality     ┆ tality_cum │\n",
              "│ str      ┆ str       ┆ ---     ┆ str     ┆   ┆ ulative_ab ┆ ulative    ┆ ---        ┆ ulative_pe │\n",
              "│          ┆           ┆ str     ┆         ┆   ┆ so…        ┆ ---        ┆ str        ┆ r_…        │\n",
              "│          ┆           ┆         ┆         ┆   ┆ ---        ┆ str        ┆            ┆ ---        │\n",
              "│          ┆           ┆         ┆         ┆   ┆ str        ┆            ┆            ┆ str        │\n",
              "╞══════════╪═══════════╪═════════╪═════════╪═══╪════════════╪════════════╪════════════╪════════════╡\n",
              "│ AFG      ┆ Asia      ┆ Afghani ┆ 2020-01 ┆ … ┆ null       ┆ null       ┆ null       ┆ null       │\n",
              "│          ┆           ┆ stan    ┆ -03     ┆   ┆            ┆            ┆            ┆            │\n",
              "│ AFG      ┆ Asia      ┆ Afghani ┆ 2020-01 ┆ … ┆ null       ┆ null       ┆ null       ┆ null       │\n",
              "│          ┆           ┆ stan    ┆ -04     ┆   ┆            ┆            ┆            ┆            │\n",
              "│ AFG      ┆ Asia      ┆ Afghani ┆ 2020-01 ┆ … ┆ null       ┆ null       ┆ null       ┆ null       │\n",
              "│          ┆           ┆ stan    ┆ -05     ┆   ┆            ┆            ┆            ┆            │\n",
              "│ AFG      ┆ Asia      ┆ Afghani ┆ 2020-01 ┆ … ┆ null       ┆ null       ┆ null       ┆ null       │\n",
              "│          ┆           ┆ stan    ┆ -06     ┆   ┆            ┆            ┆            ┆            │\n",
              "│ AFG      ┆ Asia      ┆ Afghani ┆ 2020-01 ┆ … ┆ null       ┆ null       ┆ null       ┆ null       │\n",
              "│          ┆           ┆ stan    ┆ -07     ┆   ┆            ┆            ┆            ┆            │\n",
              "└──────────┴───────────┴─────────┴─────────┴───┴────────────┴────────────┴────────────┴────────────┘"
            ]
          },
          "execution_count": 8,
          "metadata": {},
          "output_type": "execute_result"
        }
      ],
      "source": [
        "plDF.head() # Get the first n rows\n",
        "#plDF.tail() # Get the last n rows\n",
        "#plDF.unique() # Get unique values of this expression."
      ]
    },
    {
      "attachments": {},
      "cell_type": "markdown",
      "metadata": {},
      "source": [
        "Selecting Columns"
      ]
    },
    {
      "cell_type": "code",
      "execution_count": 57,
      "metadata": {},
      "outputs": [
        {
          "data": {
            "text/html": [
              "<div>\n",
              "<style scoped>\n",
              "    .dataframe tbody tr th:only-of-type {\n",
              "        vertical-align: middle;\n",
              "    }\n",
              "\n",
              "    .dataframe tbody tr th {\n",
              "        vertical-align: top;\n",
              "    }\n",
              "\n",
              "    .dataframe thead th {\n",
              "        text-align: right;\n",
              "    }\n",
              "</style>\n",
              "<table border=\"1\" class=\"dataframe\">\n",
              "  <thead>\n",
              "    <tr style=\"text-align: right;\">\n",
              "      <th></th>\n",
              "      <th>iso_code</th>\n",
              "      <th>continent</th>\n",
              "      <th>location</th>\n",
              "      <th>total_cases</th>\n",
              "    </tr>\n",
              "  </thead>\n",
              "  <tbody>\n",
              "    <tr>\n",
              "      <th>0</th>\n",
              "      <td>AFG</td>\n",
              "      <td>Asia</td>\n",
              "      <td>Afghanistan</td>\n",
              "      <td>NaN</td>\n",
              "    </tr>\n",
              "    <tr>\n",
              "      <th>1</th>\n",
              "      <td>AFG</td>\n",
              "      <td>Asia</td>\n",
              "      <td>Afghanistan</td>\n",
              "      <td>NaN</td>\n",
              "    </tr>\n",
              "    <tr>\n",
              "      <th>2</th>\n",
              "      <td>AFG</td>\n",
              "      <td>Asia</td>\n",
              "      <td>Afghanistan</td>\n",
              "      <td>NaN</td>\n",
              "    </tr>\n",
              "    <tr>\n",
              "      <th>3</th>\n",
              "      <td>AFG</td>\n",
              "      <td>Asia</td>\n",
              "      <td>Afghanistan</td>\n",
              "      <td>NaN</td>\n",
              "    </tr>\n",
              "    <tr>\n",
              "      <th>4</th>\n",
              "      <td>AFG</td>\n",
              "      <td>Asia</td>\n",
              "      <td>Afghanistan</td>\n",
              "      <td>NaN</td>\n",
              "    </tr>\n",
              "  </tbody>\n",
              "</table>\n",
              "</div>"
            ],
            "text/plain": [
              "  iso_code continent     location  total_cases\n",
              "0      AFG      Asia  Afghanistan          NaN\n",
              "1      AFG      Asia  Afghanistan          NaN\n",
              "2      AFG      Asia  Afghanistan          NaN\n",
              "3      AFG      Asia  Afghanistan          NaN\n",
              "4      AFG      Asia  Afghanistan          NaN"
            ]
          },
          "execution_count": 57,
          "metadata": {},
          "output_type": "execute_result"
        }
      ],
      "source": [
        "# Pandas Columns\n",
        "columns = ['iso_code', 'continent', 'location', 'total_cases']\n",
        "columnspdDF = pdDF[columns] \n",
        "columnspdDF.head()"
      ]
    },
    {
      "cell_type": "code",
      "execution_count": 58,
      "metadata": {},
      "outputs": [
        {
          "data": {
            "text/html": [
              "<div><style>\n",
              ".dataframe > thead > tr > th,\n",
              ".dataframe > tbody > tr > td {\n",
              "  text-align: right;\n",
              "}\n",
              "</style>\n",
              "<small>shape: (5, 4)</small><table border=\"1\" class=\"dataframe\"><thead><tr><th>iso_code</th><th>continent</th><th>location</th><th>total_cases</th></tr><tr><td>str</td><td>str</td><td>str</td><td>f64</td></tr></thead><tbody><tr><td>&quot;AFG&quot;</td><td>&quot;Asia&quot;</td><td>&quot;Afghanistan&quot;</td><td>null</td></tr><tr><td>&quot;AFG&quot;</td><td>&quot;Asia&quot;</td><td>&quot;Afghanistan&quot;</td><td>null</td></tr><tr><td>&quot;AFG&quot;</td><td>&quot;Asia&quot;</td><td>&quot;Afghanistan&quot;</td><td>null</td></tr><tr><td>&quot;AFG&quot;</td><td>&quot;Asia&quot;</td><td>&quot;Afghanistan&quot;</td><td>null</td></tr><tr><td>&quot;AFG&quot;</td><td>&quot;Asia&quot;</td><td>&quot;Afghanistan&quot;</td><td>null</td></tr></tbody></table></div>"
            ],
            "text/plain": [
              "shape: (5, 4)\n",
              "┌──────────┬───────────┬─────────────┬─────────────┐\n",
              "│ iso_code ┆ continent ┆ location    ┆ total_cases │\n",
              "│ ---      ┆ ---       ┆ ---         ┆ ---         │\n",
              "│ str      ┆ str       ┆ str         ┆ f64         │\n",
              "╞══════════╪═══════════╪═════════════╪═════════════╡\n",
              "│ AFG      ┆ Asia      ┆ Afghanistan ┆ null        │\n",
              "│ AFG      ┆ Asia      ┆ Afghanistan ┆ null        │\n",
              "│ AFG      ┆ Asia      ┆ Afghanistan ┆ null        │\n",
              "│ AFG      ┆ Asia      ┆ Afghanistan ┆ null        │\n",
              "│ AFG      ┆ Asia      ┆ Afghanistan ┆ null        │\n",
              "└──────────┴───────────┴─────────────┴─────────────┘"
            ]
          },
          "execution_count": 58,
          "metadata": {},
          "output_type": "execute_result"
        }
      ],
      "source": [
        "# Polars Columns bad way\n",
        "columns = ['iso_code', 'continent', 'location', 'total_cases']\n",
        "columnsplDF = plDF[columns] \n",
        "columnsplDF.head()\n",
        "\n",
        "# Polars Columns Good way\n",
        "#columns = ['iso_code', 'continent', 'location']\n",
        "#plDF.select(pl.col(columns)).head()  "
      ]
    },
    {
      "attachments": {},
      "cell_type": "markdown",
      "metadata": {},
      "source": [
        "Filtering Data"
      ]
    },
    {
      "cell_type": "code",
      "execution_count": 59,
      "metadata": {},
      "outputs": [
        {
          "data": {
            "text/html": [
              "<div>\n",
              "<style scoped>\n",
              "    .dataframe tbody tr th:only-of-type {\n",
              "        vertical-align: middle;\n",
              "    }\n",
              "\n",
              "    .dataframe tbody tr th {\n",
              "        vertical-align: top;\n",
              "    }\n",
              "\n",
              "    .dataframe thead th {\n",
              "        text-align: right;\n",
              "    }\n",
              "</style>\n",
              "<table border=\"1\" class=\"dataframe\">\n",
              "  <thead>\n",
              "    <tr style=\"text-align: right;\">\n",
              "      <th></th>\n",
              "      <th>iso_code</th>\n",
              "      <th>continent</th>\n",
              "      <th>location</th>\n",
              "      <th>total_cases</th>\n",
              "    </tr>\n",
              "  </thead>\n",
              "  <tbody>\n",
              "    <tr>\n",
              "      <th>533</th>\n",
              "      <td>AFG</td>\n",
              "      <td>Asia</td>\n",
              "      <td>Afghanistan</td>\n",
              "      <td>100521.0</td>\n",
              "    </tr>\n",
              "    <tr>\n",
              "      <th>534</th>\n",
              "      <td>AFG</td>\n",
              "      <td>Asia</td>\n",
              "      <td>Afghanistan</td>\n",
              "      <td>101906.0</td>\n",
              "    </tr>\n",
              "    <tr>\n",
              "      <th>535</th>\n",
              "      <td>AFG</td>\n",
              "      <td>Asia</td>\n",
              "      <td>Afghanistan</td>\n",
              "      <td>103902.0</td>\n",
              "    </tr>\n",
              "    <tr>\n",
              "      <th>536</th>\n",
              "      <td>AFG</td>\n",
              "      <td>Asia</td>\n",
              "      <td>Afghanistan</td>\n",
              "      <td>105749.0</td>\n",
              "    </tr>\n",
              "    <tr>\n",
              "      <th>537</th>\n",
              "      <td>AFG</td>\n",
              "      <td>Asia</td>\n",
              "      <td>Afghanistan</td>\n",
              "      <td>107957.0</td>\n",
              "    </tr>\n",
              "  </tbody>\n",
              "</table>\n",
              "</div>"
            ],
            "text/plain": [
              "    iso_code continent     location  total_cases\n",
              "533      AFG      Asia  Afghanistan     100521.0\n",
              "534      AFG      Asia  Afghanistan     101906.0\n",
              "535      AFG      Asia  Afghanistan     103902.0\n",
              "536      AFG      Asia  Afghanistan     105749.0\n",
              "537      AFG      Asia  Afghanistan     107957.0"
            ]
          },
          "execution_count": 59,
          "metadata": {},
          "output_type": "execute_result"
        }
      ],
      "source": [
        "# Pandas\n",
        "columnspdDF = columnspdDF.query('total_cases > 100000')\n",
        "columnspdDF.head()"
      ]
    },
    {
      "cell_type": "code",
      "execution_count": 60,
      "metadata": {},
      "outputs": [
        {
          "data": {
            "text/html": [
              "<div><style>\n",
              ".dataframe > thead > tr > th,\n",
              ".dataframe > tbody > tr > td {\n",
              "  text-align: right;\n",
              "}\n",
              "</style>\n",
              "<small>shape: (5, 4)</small><table border=\"1\" class=\"dataframe\"><thead><tr><th>iso_code</th><th>continent</th><th>location</th><th>total_cases</th></tr><tr><td>str</td><td>str</td><td>str</td><td>f64</td></tr></thead><tbody><tr><td>&quot;AFG&quot;</td><td>&quot;Asia&quot;</td><td>&quot;Afghanistan&quot;</td><td>100521.0</td></tr><tr><td>&quot;AFG&quot;</td><td>&quot;Asia&quot;</td><td>&quot;Afghanistan&quot;</td><td>101906.0</td></tr><tr><td>&quot;AFG&quot;</td><td>&quot;Asia&quot;</td><td>&quot;Afghanistan&quot;</td><td>103902.0</td></tr><tr><td>&quot;AFG&quot;</td><td>&quot;Asia&quot;</td><td>&quot;Afghanistan&quot;</td><td>105749.0</td></tr><tr><td>&quot;AFG&quot;</td><td>&quot;Asia&quot;</td><td>&quot;Afghanistan&quot;</td><td>107957.0</td></tr></tbody></table></div>"
            ],
            "text/plain": [
              "shape: (5, 4)\n",
              "┌──────────┬───────────┬─────────────┬─────────────┐\n",
              "│ iso_code ┆ continent ┆ location    ┆ total_cases │\n",
              "│ ---      ┆ ---       ┆ ---         ┆ ---         │\n",
              "│ str      ┆ str       ┆ str         ┆ f64         │\n",
              "╞══════════╪═══════════╪═════════════╪═════════════╡\n",
              "│ AFG      ┆ Asia      ┆ Afghanistan ┆ 100521.0    │\n",
              "│ AFG      ┆ Asia      ┆ Afghanistan ┆ 101906.0    │\n",
              "│ AFG      ┆ Asia      ┆ Afghanistan ┆ 103902.0    │\n",
              "│ AFG      ┆ Asia      ┆ Afghanistan ┆ 105749.0    │\n",
              "│ AFG      ┆ Asia      ┆ Afghanistan ┆ 107957.0    │\n",
              "└──────────┴───────────┴─────────────┴─────────────┘"
            ]
          },
          "execution_count": 60,
          "metadata": {},
          "output_type": "execute_result"
        }
      ],
      "source": [
        "# Polars\n",
        "columnsplDF = columnsplDF.filter(pl.col('total_cases') > 100000)\n",
        "columnsplDF.head()"
      ]
    },
    {
      "attachments": {},
      "cell_type": "markdown",
      "metadata": {},
      "source": [
        "Create Columns"
      ]
    },
    {
      "cell_type": "code",
      "execution_count": 70,
      "metadata": {},
      "outputs": [
        {
          "data": {
            "text/html": [
              "<div>\n",
              "<style scoped>\n",
              "    .dataframe tbody tr th:only-of-type {\n",
              "        vertical-align: middle;\n",
              "    }\n",
              "\n",
              "    .dataframe tbody tr th {\n",
              "        vertical-align: top;\n",
              "    }\n",
              "\n",
              "    .dataframe thead th {\n",
              "        text-align: right;\n",
              "    }\n",
              "</style>\n",
              "<table border=\"1\" class=\"dataframe\">\n",
              "  <thead>\n",
              "    <tr style=\"text-align: right;\">\n",
              "      <th></th>\n",
              "      <th>iso_code</th>\n",
              "      <th>continent</th>\n",
              "      <th>location</th>\n",
              "      <th>total_cases</th>\n",
              "      <th>total_cases_new</th>\n",
              "    </tr>\n",
              "  </thead>\n",
              "  <tbody>\n",
              "    <tr>\n",
              "      <th>533</th>\n",
              "      <td>AFG</td>\n",
              "      <td>Asia</td>\n",
              "      <td>Afghanistan</td>\n",
              "      <td>100521.0</td>\n",
              "      <td>100521.0</td>\n",
              "    </tr>\n",
              "    <tr>\n",
              "      <th>534</th>\n",
              "      <td>AFG</td>\n",
              "      <td>Asia</td>\n",
              "      <td>Afghanistan</td>\n",
              "      <td>101906.0</td>\n",
              "      <td>101906.0</td>\n",
              "    </tr>\n",
              "    <tr>\n",
              "      <th>535</th>\n",
              "      <td>AFG</td>\n",
              "      <td>Asia</td>\n",
              "      <td>Afghanistan</td>\n",
              "      <td>103902.0</td>\n",
              "      <td>103902.0</td>\n",
              "    </tr>\n",
              "    <tr>\n",
              "      <th>536</th>\n",
              "      <td>AFG</td>\n",
              "      <td>Asia</td>\n",
              "      <td>Afghanistan</td>\n",
              "      <td>105749.0</td>\n",
              "      <td>105749.0</td>\n",
              "    </tr>\n",
              "    <tr>\n",
              "      <th>537</th>\n",
              "      <td>AFG</td>\n",
              "      <td>Asia</td>\n",
              "      <td>Afghanistan</td>\n",
              "      <td>107957.0</td>\n",
              "      <td>107957.0</td>\n",
              "    </tr>\n",
              "  </tbody>\n",
              "</table>\n",
              "</div>"
            ],
            "text/plain": [
              "    iso_code continent     location  total_cases  total_cases_new\n",
              "533      AFG      Asia  Afghanistan     100521.0         100521.0\n",
              "534      AFG      Asia  Afghanistan     101906.0         101906.0\n",
              "535      AFG      Asia  Afghanistan     103902.0         103902.0\n",
              "536      AFG      Asia  Afghanistan     105749.0         105749.0\n",
              "537      AFG      Asia  Afghanistan     107957.0         107957.0"
            ]
          },
          "execution_count": 70,
          "metadata": {},
          "output_type": "execute_result"
        }
      ],
      "source": [
        "# Pandas\n",
        "columnspdDF[\"total_cases_new\"] = columnspdDF[\"total_cases\"]\n",
        "columnspdDF.head()\n",
        "\n"
      ]
    },
    {
      "cell_type": "code",
      "execution_count": 71,
      "metadata": {},
      "outputs": [
        {
          "data": {
            "text/html": [
              "<div><style>\n",
              ".dataframe > thead > tr > th,\n",
              ".dataframe > tbody > tr > td {\n",
              "  text-align: right;\n",
              "}\n",
              "</style>\n",
              "<small>shape: (5, 4)</small><table border=\"1\" class=\"dataframe\"><thead><tr><th>iso_code</th><th>continent</th><th>location</th><th>total_cases</th></tr><tr><td>str</td><td>str</td><td>str</td><td>f64</td></tr></thead><tbody><tr><td>&quot;AFG&quot;</td><td>&quot;Asia&quot;</td><td>&quot;Afghanistan&quot;</td><td>100521.0</td></tr><tr><td>&quot;AFG&quot;</td><td>&quot;Asia&quot;</td><td>&quot;Afghanistan&quot;</td><td>101906.0</td></tr><tr><td>&quot;AFG&quot;</td><td>&quot;Asia&quot;</td><td>&quot;Afghanistan&quot;</td><td>103902.0</td></tr><tr><td>&quot;AFG&quot;</td><td>&quot;Asia&quot;</td><td>&quot;Afghanistan&quot;</td><td>105749.0</td></tr><tr><td>&quot;AFG&quot;</td><td>&quot;Asia&quot;</td><td>&quot;Afghanistan&quot;</td><td>107957.0</td></tr></tbody></table></div>"
            ],
            "text/plain": [
              "shape: (5, 4)\n",
              "┌──────────┬───────────┬─────────────┬─────────────┐\n",
              "│ iso_code ┆ continent ┆ location    ┆ total_cases │\n",
              "│ ---      ┆ ---       ┆ ---         ┆ ---         │\n",
              "│ str      ┆ str       ┆ str         ┆ f64         │\n",
              "╞══════════╪═══════════╪═════════════╪═════════════╡\n",
              "│ AFG      ┆ Asia      ┆ Afghanistan ┆ 100521.0    │\n",
              "│ AFG      ┆ Asia      ┆ Afghanistan ┆ 101906.0    │\n",
              "│ AFG      ┆ Asia      ┆ Afghanistan ┆ 103902.0    │\n",
              "│ AFG      ┆ Asia      ┆ Afghanistan ┆ 105749.0    │\n",
              "│ AFG      ┆ Asia      ┆ Afghanistan ┆ 107957.0    │\n",
              "└──────────┴───────────┴─────────────┴─────────────┘"
            ]
          },
          "execution_count": 71,
          "metadata": {},
          "output_type": "execute_result"
        }
      ],
      "source": [
        "# Polars\n",
        "columnsplDF.with_columns([(pl.col(\"total_cases\")).alias(\"total_cases_new\")])\n",
        "columnsplDF.head()\n",
        "\n",
        "# Polars for multiple columns\n",
        "# df.with_columns([(pl.col(\"col\") * 10).alias(\"new_col\"), ...])"
      ]
    },
    {
      "attachments": {},
      "cell_type": "markdown",
      "metadata": {},
      "source": [
        "Aggregation"
      ]
    },
    {
      "cell_type": "code",
      "execution_count": 80,
      "metadata": {},
      "outputs": [
        {
          "data": {
            "text/plain": [
              "location\n",
              "Afghanistan       211630.0\n",
              "Africa          13074358.0\n",
              "Albania           333897.0\n",
              "Algeria           271613.0\n",
              "Angola            105353.0\n",
              "                  ...     \n",
              "Venezuela         552398.0\n",
              "Vietnam         11527745.0\n",
              "World          762790388.0\n",
              "Zambia            343415.0\n",
              "Zimbabwe          264584.0\n",
              "Name: total_cases, Length: 142, dtype: float64"
            ]
          },
          "execution_count": 80,
          "metadata": {},
          "output_type": "execute_result"
        }
      ],
      "source": [
        "# Pandas\n",
        "columnspdDF.groupby('location')['total_cases'].agg('max')"
      ]
    },
    {
      "cell_type": "code",
      "execution_count": 89,
      "metadata": {},
      "outputs": [
        {
          "data": {
            "text/html": [
              "<div><style>\n",
              ".dataframe > thead > tr > th,\n",
              ".dataframe > tbody > tr > td {\n",
              "  text-align: right;\n",
              "}\n",
              "</style>\n",
              "<small>shape: (5, 2)</small><table border=\"1\" class=\"dataframe\"><thead><tr><th>location</th><th>total_cases</th></tr><tr><td>str</td><td>f64</td></tr></thead><tbody><tr><td>&quot;Zimbabwe&quot;</td><td>264584.0</td></tr><tr><td>&quot;United Arab Em…</td><td>1.058979e6</td></tr><tr><td>&quot;Russia&quot;</td><td>2.2727542e7</td></tr><tr><td>&quot;North Macedoni…</td><td>347672.0</td></tr><tr><td>&quot;Guadeloupe&quot;</td><td>202163.0</td></tr></tbody></table></div>"
            ],
            "text/plain": [
              "shape: (5, 2)\n",
              "┌──────────────────────┬─────────────┐\n",
              "│ location             ┆ total_cases │\n",
              "│ ---                  ┆ ---         │\n",
              "│ str                  ┆ f64         │\n",
              "╞══════════════════════╪═════════════╡\n",
              "│ Zimbabwe             ┆ 264584.0    │\n",
              "│ United Arab Emirates ┆ 1.058979e6  │\n",
              "│ Russia               ┆ 2.2727542e7 │\n",
              "│ North Macedonia      ┆ 347672.0    │\n",
              "│ Guadeloupe           ┆ 202163.0    │\n",
              "└──────────────────────┴─────────────┘"
            ]
          },
          "execution_count": 89,
          "metadata": {},
          "output_type": "execute_result"
        }
      ],
      "source": [
        "# Polars\n",
        "columnsplDF.groupby('location').agg([pl.max('total_cases')]).head()"
      ]
    },
    {
      "attachments": {},
      "cell_type": "markdown",
      "metadata": {},
      "source": [
        "# SQL Use <br>\n",
        "Ref: https://pola-rs.github.io/polars-book/user-guide/sql.html"
      ]
    },
    {
      "cell_type": "code",
      "execution_count": 91,
      "metadata": {},
      "outputs": [],
      "source": [
        "# convert 'pokemon' into a Lazyframe by calling the .lazy() method\n",
        "pokemon = pl.read_csv(\n",
        "    \"https://gist.githubusercontent.com/ritchie46/cac6b337ea52281aa23c049250a4ff03/raw/89a957ff3919d90e6ef2d34235e6bf22304f3366/pokemon.csv\"\n",
        ").lazy()\n",
        "\n",
        "# initialize the SQL context and register the lazyframe\n",
        "sql = pl.SQLContext()\n",
        "sql.register(\"pokemon\", pokemon)"
      ]
    },
    {
      "cell_type": "code",
      "execution_count": 93,
      "metadata": {},
      "outputs": [
        {
          "data": {
            "text/html": [
              "<div><style>\n",
              ".dataframe > thead > tr > th,\n",
              ".dataframe > tbody > tr > td {\n",
              "  text-align: right;\n",
              "}\n",
              "</style>\n",
              "<small>shape: (15, 4)</small><table border=\"1\" class=\"dataframe\"><thead><tr><th>Type 1</th><th>count_type_2</th><th>avg_attack_by_type</th><th>max_speed</th></tr><tr><td>str</td><td>u32</td><td>f64</td><td>i64</td></tr></thead><tbody><tr><td>&quot;Electric&quot;</td><td>3</td><td>62.0</td><td>140</td></tr><tr><td>&quot;Bug&quot;</td><td>4</td><td>76.428571</td><td>145</td></tr><tr><td>&quot;Normal&quot;</td><td>3</td><td>70.625</td><td>121</td></tr><tr><td>&quot;Ghost&quot;</td><td>1</td><td>53.75</td><td>130</td></tr><tr><td>&quot;Dragon&quot;</td><td>2</td><td>94.0</td><td>80</td></tr><tr><td>&quot;Ground&quot;</td><td>2</td><td>81.875</td><td>120</td></tr><tr><td>&quot;Fire&quot;</td><td>3</td><td>88.642857</td><td>105</td></tr><tr><td>&quot;Ice&quot;</td><td>2</td><td>67.5</td><td>95</td></tr><tr><td>&quot;Grass&quot;</td><td>3</td><td>72.923077</td><td>80</td></tr><tr><td>&quot;Rock&quot;</td><td>3</td><td>87.5</td><td>150</td></tr><tr><td>&quot;Water&quot;</td><td>7</td><td>74.193548</td><td>115</td></tr><tr><td>&quot;Poison&quot;</td><td>3</td><td>74.428571</td><td>90</td></tr><tr><td>&quot;Psychic&quot;</td><td>2</td><td>53.875</td><td>150</td></tr><tr><td>&quot;Fairy&quot;</td><td>1</td><td>57.5</td><td>60</td></tr><tr><td>&quot;Fighting&quot;</td><td>1</td><td>102.857143</td><td>95</td></tr></tbody></table></div>"
            ],
            "text/plain": [
              "shape: (15, 4)\n",
              "┌──────────┬──────────────┬────────────────────┬───────────┐\n",
              "│ Type 1   ┆ count_type_2 ┆ avg_attack_by_type ┆ max_speed │\n",
              "│ ---      ┆ ---          ┆ ---                ┆ ---       │\n",
              "│ str      ┆ u32          ┆ f64                ┆ i64       │\n",
              "╞══════════╪══════════════╪════════════════════╪═══════════╡\n",
              "│ Electric ┆ 3            ┆ 62.0               ┆ 140       │\n",
              "│ Bug      ┆ 4            ┆ 76.428571          ┆ 145       │\n",
              "│ Normal   ┆ 3            ┆ 70.625             ┆ 121       │\n",
              "│ Ghost    ┆ 1            ┆ 53.75              ┆ 130       │\n",
              "│ …        ┆ …            ┆ …                  ┆ …         │\n",
              "│ Poison   ┆ 3            ┆ 74.428571          ┆ 90        │\n",
              "│ Psychic  ┆ 2            ┆ 53.875             ┆ 150       │\n",
              "│ Fairy    ┆ 1            ┆ 57.5               ┆ 60        │\n",
              "│ Fighting ┆ 1            ┆ 102.857143         ┆ 95        │\n",
              "└──────────┴──────────────┴────────────────────┴───────────┘"
            ]
          },
          "execution_count": 93,
          "metadata": {},
          "output_type": "execute_result"
        }
      ],
      "source": [
        "out = sql.query(\n",
        "    \"\"\"\n",
        "SELECT \n",
        "    \"Type 1\",\n",
        "    COUNT(DISTINCT \"Type 2\") AS count_type_2,\n",
        "    AVG(Attack) AS avg_attack_by_type,\n",
        "    MAX(Speed) AS max_speed\n",
        "FROM pokemon\n",
        "GROUP BY \"Type 1\"\n",
        "\"\"\"\n",
        ")\n",
        "out"
      ]
    }
  ],
  "metadata": {
    "colab": {
      "provenance": []
    },
    "kernelspec": {
      "display_name": "Python 3",
      "language": "python",
      "name": "python3"
    },
    "language_info": {
      "codemirror_mode": {
        "name": "ipython",
        "version": 3
      },
      "file_extension": ".py",
      "mimetype": "text/x-python",
      "name": "python",
      "nbconvert_exporter": "python",
      "pygments_lexer": "ipython3",
      "version": "3.11.2"
    },
    "vscode": {
      "interpreter": {
        "hash": "e0f38e2522b01d6e43c225d517f2b2497b78ad04de3d7884038266b7d86b5faf"
      }
    }
  },
  "nbformat": 4,
  "nbformat_minor": 0
}
